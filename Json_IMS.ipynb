{
  "nbformat": 4,
  "nbformat_minor": 0,
  "metadata": {
    "colab": {
      "name": "Json IMS.ipynb",
      "provenance": [],
      "collapsed_sections": []
    },
    "kernelspec": {
      "name": "python3",
      "display_name": "Python 3"
    },
    "language_info": {
      "name": "python"
    }
  },
  "cells": [
    {
      "cell_type": "code",
      "metadata": {
        "id": "Gx1fp6dKoDu2"
      },
      "source": [
        "record = {2021090001 : {\"product name\": \"Nokia mobile6272\", \"Quantity\": 2, \"perprice\": 3000, \"Totalprice\": 6000},\n",
        "          2021090002 : {\"product name\": \"Samsung galaxy note\", \"Quantity\": 3, \"perprice\": 15000, \"Totalprice\": 45000},\n",
        "          2021090003 : {\"product name\": \"Motorola j7\", \"Quantity\": 4, \"perprice\": 7000, \"Totalprice\": 28000},\n",
        "          2021090004 : {\"product name\": \"Redmi\", \"Quantity\": 3, \"perprice\": 5000, \"Totalprice\": 15000},\n",
        "          2021090005 : {\"product name\": \"Poco\", \"Quantity\": 4, \"perprice\": 10000, \"Totalprice\": 40000},\n",
        "          2021090006 : {\"product name\": \"JBL head phones\", \"Quantity\": 5, \"perprice\": 450, \"Totalprice\": 2250},\n",
        "          2021090007 : {\"product name\": \"Link head phones\", \"Quantity\": 6, \"perprice\": 350, \"Totalprice\": 2100},\n",
        "          2021090008 : {\"product name\": \"g5 head phones\", \"Quantity\": 3, \"perprice\": 170, \"Totalprice\": 510},\n",
        "          2021090009 : {\"product name\": \"LED lights\", \"Quantity\": 2, \"perprice\": 5, \"Totalprice\": 10},\n",
        "          20210900010 : {\"product name\": \"Samsung PCBA\", \"Quantity\": 5, \"perprice\": 5500, \"Totalprice\": 7500},\n",
        "          20210900011 : {\"product name\": \"USB cable\", \"Quantity\": 6, \"perprice\": 70, \"Totalprice\": 420},\n",
        "          20210900012 : {\"product name\": \"Poco charger\", \"Quantity\": 5, \"perprice\": 450, \"Totalprice\": 2250},\n",
        "          20210900013 : {\"product name\": \"USB type C\", \"Quantity\": 1, \"perprice\": 120, \"Totalprice\": 120},\n",
        "          20210900014 : {\"product name\": \"Samusung head phones\", \"Quantity\": 3, \"perprice\": 700, \"Totalprice\": 2100},\n",
        "          20210900015 : {\"product name\": \"Nokia charger type C\", \"Quantity\": 2, \"perprice\": 450, \"Totalprice\": 900},\n",
        "          20210900016 : {\"product name\": \"Charger connector\", \"Quantity\": 5, \"perprice\": 130, \"Totalprice\": 650},\n",
        "          20210900017 : {\"product name\": \"OTG connector\", \"Quantity\": 2, \"perprice\": 30, \"Totalprice\": 60},\n",
        "          20210900018 : {\"product name\": \"Charger CC pin\", \"Quantity\": 5, \"perprice\": 140, \"Totalprice\": 700},\n",
        "          20210900019 : {\"product name\": \"Redmi note7pro back cover\", \"Quantity\": 2, \"perprice\": 130, \"Totalprice\": 260},\n",
        "          20210900020 : {\"product name\": \"Mate screen guard\", \"Quantity\": 2, \"perprice\": 170, \"Totalprice\": 340},\n",
        "          20210900021 : {\"product name\": \"Gorilla 5\", \"Quantity\": 5, \"perprice\": 250, \"Totalprice\": 1250},\n",
        "          20210900022 : {\"product name\": \"touch pad\", \"Quantity\": 2, \"perprice\": 700, \"Totalprice\": 1400},\n",
        "          20210900023 : {\"product name\": \"samsung touch pad\", \"Quantity\": 1, \"perprice\": 1200, \"Totalprice\": 1200},\n",
        "          20210900024 : {\"product name\": \"Nokia connector\", \"Quantity\": 1, \"perprice\": 220, \"Totalprice\": 220},\n",
        "          20210900025 : {\"product name\": \"MI mix 7\", \"Quantity\": 1, \"perprice\": 20000, \"Totalprice\": 20000},\n",
        "          20210900026 : {\"product name\": \"Redmi 5\", \"Quantity\": 2, \"perprice\": 7000, \"Totalprice\": 14000},\n",
        "          20210900027 : {\"product name\": \"Poco m3\", \"Quantity\": 3, \"perprice\": 12000, \"Totalprice\": 36000},\n",
        "          20210900028 : {\"product name\": \"Moto x6\", \"Quantity\": 1, \"perprice\": 18000, \"Totalprice\": 18000},\n",
        "          20210900029 : {\"product name\": \"N2 head phones\", \"Quantity\": 2, \"perprice\": 150, \"Totalprice\": 300},\n",
        "          20210900030 : {\"product name\": \"M6 connectors\", \"Quantity\": 2, \"perprice\": 70, \"Totalprice\": 140},\n",
        "          20210900031 : {\"product name\": \"Redmi 65W fast charger\", \"Quantity\": 3, \"perprice\": 450, \"Totalprice\": 1350},\n",
        "          20210900032 : {\"product name\": \"konix mobile tag\", \"Quantity\": 4, \"perprice\": 70, \"Totalprice\": 28}}"
      ],
      "execution_count": 48,
      "outputs": []
    },
    {
      "cell_type": "code",
      "metadata": {
        "colab": {
          "base_uri": "https://localhost:8080/",
          "height": 35
        },
        "id": "3Uy0P4v-ICmA",
        "outputId": "f3ad02b1-702c-4e6d-decf-6375b2bdbcd9"
      },
      "source": [
        "record[20210900032]['product name']"
      ],
      "execution_count": 69,
      "outputs": [
        {
          "output_type": "execute_result",
          "data": {
            "application/vnd.google.colaboratory.intrinsic+json": {
              "type": "string"
            },
            "text/plain": [
              "'konix mobile tag'"
            ]
          },
          "metadata": {},
          "execution_count": 69
        }
      ]
    },
    {
      "cell_type": "code",
      "metadata": {
        "colab": {
          "base_uri": "https://localhost:8080/"
        },
        "id": "yv7vM96pIJ7E",
        "outputId": "809fc384-5e98-41fc-8ae9-8375d95c4993"
      },
      "source": [
        "prod = 20210900032\n",
        "\n",
        "print(record[prod]['product name'])\n",
        "print(record[prod]['Quantity'])\n",
        "print(record[prod]['perprice'])\n",
        "print(record[prod]['Totalprice'])"
      ],
      "execution_count": 67,
      "outputs": [
        {
          "output_type": "stream",
          "name": "stdout",
          "text": [
            "konix mobile tag\n",
            "4\n",
            "70\n",
            "28\n"
          ]
        }
      ]
    },
    {
      "cell_type": "code",
      "metadata": {
        "id": "vR6edB2uTJxV"
      },
      "source": [
        "record[20210900032]['Totalprice'] = 28"
      ],
      "execution_count": 51,
      "outputs": []
    },
    {
      "cell_type": "code",
      "metadata": {
        "id": "W-oQJNo2Tc5E"
      },
      "source": [
        "record"
      ],
      "execution_count": null,
      "outputs": []
    },
    {
      "cell_type": "code",
      "metadata": {
        "id": "ULo9YbnPRljO"
      },
      "source": [
        "import json"
      ],
      "execution_count": 54,
      "outputs": []
    },
    {
      "cell_type": "code",
      "metadata": {
        "id": "2HDqZWp2W8uw"
      },
      "source": [
        "js = json.dumps(record)"
      ],
      "execution_count": 55,
      "outputs": []
    },
    {
      "cell_type": "code",
      "metadata": {
        "colab": {
          "base_uri": "https://localhost:8080/",
          "height": 191
        },
        "id": "olE--9rOXD55",
        "outputId": "b146b1e8-929a-4b13-ce03-74202415417a"
      },
      "source": [
        "js"
      ],
      "execution_count": 71,
      "outputs": [
        {
          "output_type": "execute_result",
          "data": {
            "application/vnd.google.colaboratory.intrinsic+json": {
              "type": "string"
            },
            "text/plain": [
              "'{\"2021090001\": {\"product name\": \"Nokia mobile6272\", \"Quantity\": 2, \"perprice\": 3000, \"Totalprice\": 6000}, \"2021090002\": {\"product name\": \"Samsung galaxy note\", \"Quantity\": 3, \"perprice\": 15000, \"Totalprice\": 45000}, \"2021090003\": {\"product name\": \"Motorola j7\", \"Quantity\": 4, \"perprice\": 7000, \"Totalprice\": 28000}, \"2021090004\": {\"product name\": \"Redmi\", \"Quantity\": 3, \"perprice\": 5000, \"Totalprice\": 15000}, \"2021090005\": {\"product name\": \"Poco\", \"Quantity\": 4, \"perprice\": 10000, \"Totalprice\": 40000}, \"2021090006\": {\"product name\": \"JBL head phones\", \"Quantity\": 5, \"perprice\": 450, \"Totalprice\": 2250}, \"2021090007\": {\"product name\": \"Link head phones\", \"Quantity\": 6, \"perprice\": 350, \"Totalprice\": 2100}, \"2021090008\": {\"product name\": \"g5 head phones\", \"Quantity\": 3, \"perprice\": 170, \"Totalprice\": 510}, \"2021090009\": {\"product name\": \"LED lights\", \"Quantity\": 2, \"perprice\": 5, \"Totalprice\": 10}, \"20210900010\": {\"product name\": \"Samsung PCBA\", \"Quantity\": 5, \"perprice\": 5500, \"Totalprice\": 7500}, \"20210900011\": {\"product name\": \"USB cable\", \"Quantity\": 6, \"perprice\": 70, \"Totalprice\": 420}, \"20210900012\": {\"product name\": \"Poco charger\", \"Quantity\": 5, \"perprice\": 450, \"Totalprice\": 2250}, \"20210900013\": {\"product name\": \"USB type C\", \"Quantity\": 1, \"perprice\": 120, \"Totalprice\": 120}, \"20210900014\": {\"product name\": \"Samusung head phones\", \"Quantity\": 3, \"perprice\": 700, \"Totalprice\": 2100}, \"20210900015\": {\"product name\": \"Nokia charger type C\", \"Quantity\": 2, \"perprice\": 450, \"Totalprice\": 900}, \"20210900016\": {\"product name\": \"Charger connector\", \"Quantity\": 5, \"perprice\": 130, \"Totalprice\": 650}, \"20210900017\": {\"product name\": \"OTG connector\", \"Quantity\": 2, \"perprice\": 30, \"Totalprice\": 60}, \"20210900018\": {\"product name\": \"Charger CC pin\", \"Quantity\": 5, \"perprice\": 140, \"Totalprice\": 700}, \"20210900019\": {\"product name\": \"Redmi note7pro back cover\", \"Quantity\": 2, \"perprice\": 130, \"Totalprice\": 260}, \"20210900020\": {\"product name\": \"Mate screen guard\", \"Quantity\": 2, \"perprice\": 170, \"Totalprice\": 340}, \"20210900021\": {\"product name\": \"Gorilla 5\", \"Quantity\": 5, \"perprice\": 250, \"Totalprice\": 1250}, \"20210900022\": {\"product name\": \"touch pad\", \"Quantity\": 2, \"perprice\": 700, \"Totalprice\": 1400}, \"20210900023\": {\"product name\": \"samsung touch pad\", \"Quantity\": 1, \"perprice\": 1200, \"Totalprice\": 1200}, \"20210900024\": {\"product name\": \"Nokia connector\", \"Quantity\": 1, \"perprice\": 220, \"Totalprice\": 220}, \"20210900025\": {\"product name\": \"MI mix 7\", \"Quantity\": 1, \"perprice\": 20000, \"Totalprice\": 20000}, \"20210900026\": {\"product name\": \"Redmi 5\", \"Quantity\": 2, \"perprice\": 7000, \"Totalprice\": 14000}, \"20210900027\": {\"product name\": \"Poco m3\", \"Quantity\": 3, \"perprice\": 12000, \"Totalprice\": 36000}, \"20210900028\": {\"product name\": \"Moto x6\", \"Quantity\": 1, \"perprice\": 18000, \"Totalprice\": 18000}, \"20210900029\": {\"product name\": \"N2 head phones\", \"Quantity\": 2, \"perprice\": 150, \"Totalprice\": 300}, \"20210900030\": {\"product name\": \"M6 connectors\", \"Quantity\": 2, \"perprice\": 70, \"Totalprice\": 140}, \"20210900031\": {\"product name\": \"Redmi 65W fast charger\", \"Quantity\": 3, \"perprice\": 450, \"Totalprice\": 1350}, \"20210900032\": {\"product name\": \"konix mobile tag\", \"Quantity\": 4, \"perprice\": 70, \"Totalprice\": 28}}'"
            ]
          },
          "metadata": {},
          "execution_count": 71
        }
      ]
    },
    {
      "cell_type": "code",
      "metadata": {
        "id": "8QRwn_z4XFXd"
      },
      "source": [
        "record"
      ],
      "execution_count": null,
      "outputs": []
    },
    {
      "cell_type": "code",
      "metadata": {
        "colab": {
          "base_uri": "https://localhost:8080/"
        },
        "id": "vqtX7V6Wdl7I",
        "outputId": "a0b15f10-69c8-4d12-974b-82acf8ec7eab"
      },
      "source": [
        "type(js)"
      ],
      "execution_count": 63,
      "outputs": [
        {
          "output_type": "execute_result",
          "data": {
            "text/plain": [
              "str"
            ]
          },
          "metadata": {},
          "execution_count": 63
        }
      ]
    },
    {
      "cell_type": "code",
      "metadata": {
        "id": "vWVxASiLtnxX"
      },
      "source": [
        ""
      ],
      "execution_count": null,
      "outputs": []
    }
  ]
}